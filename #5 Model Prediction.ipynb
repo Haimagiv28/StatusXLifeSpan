{
 "cells": [
  {
   "cell_type": "code",
   "execution_count": 1,
   "id": "be7caa5d",
   "metadata": {},
   "outputs": [],
   "source": [
    "import pandas as pd\n",
    "from sklearn.preprocessing import StandardScaler\n",
    "from sklearn.linear_model import LinearRegression\n",
    "from sklearn.linear_model import LogisticRegression\n",
    "from sklearn.model_selection import train_test_split\n",
    "from sklearn.metrics import r2_score, f1_score, mean_squared_error, confusion_matrix"
   ]
  },
  {
   "cell_type": "code",
   "execution_count": 2,
   "id": "f0cf14b0",
   "metadata": {},
   "outputs": [
    {
     "name": "stdout",
     "output_type": "stream",
     "text": [
      "<class 'pandas.core.frame.DataFrame'>\n",
      "RangeIndex: 1578 entries, 0 to 1577\n",
      "Data columns (total 24 columns):\n",
      " #   Column             Non-Null Count  Dtype  \n",
      "---  ------             --------------  -----  \n",
      " 0   Name               1578 non-null   object \n",
      " 1   Scientific Name    1578 non-null   object \n",
      " 2   Class              1578 non-null   object \n",
      " 3   Family             1578 non-null   object \n",
      " 4   Lifespan (years)   1578 non-null   float64\n",
      " 5   Top Speed (km/h)   1578 non-null   float64\n",
      " 6   Weight (kg)        1578 non-null   float64\n",
      " 7   Length (cm)        1578 non-null   float64\n",
      " 8   Diet               1578 non-null   int64  \n",
      " 9   Population Trend   1578 non-null   int64  \n",
      " 10  Population Status  1578 non-null   int64  \n",
      " 11  Mating Behavior    1578 non-null   int64  \n",
      " 12  Arid Climate       1578 non-null   int64  \n",
      " 13  Cold Climate       1578 non-null   int64  \n",
      " 14  Polar Climate      1578 non-null   int64  \n",
      " 15  Temperate Climate  1578 non-null   int64  \n",
      " 16  Tropical Climate   1578 non-null   int64  \n",
      " 17  Africa             1578 non-null   int64  \n",
      " 18  Antarctica         1578 non-null   int64  \n",
      " 19  Asia               1578 non-null   int64  \n",
      " 20  Europe             1578 non-null   int64  \n",
      " 21  North America      1578 non-null   int64  \n",
      " 22  Oceania            1578 non-null   int64  \n",
      " 23  South America      1578 non-null   int64  \n",
      "dtypes: float64(4), int64(16), object(4)\n",
      "memory usage: 296.0+ KB\n"
     ]
    }
   ],
   "source": [
    "animals_df = pd.read_csv('animals_df_updated.csv')\n",
    "animals_df.info()"
   ]
  },
  {
   "cell_type": "code",
   "execution_count": 3,
   "id": "f260b85f",
   "metadata": {},
   "outputs": [],
   "source": [
    "animals_df.set_index(keys = \"Name\", inplace = True)\n",
    "ml_df = animals_df.drop(labels = [\"Scientific Name\", \"Class\", \"Family\"], axis = 1)"
   ]
  },
  {
   "cell_type": "code",
   "execution_count": 4,
   "id": "05c0d7be",
   "metadata": {},
   "outputs": [
    {
     "data": {
      "text/html": [
       "<div>\n",
       "<style scoped>\n",
       "    .dataframe tbody tr th:only-of-type {\n",
       "        vertical-align: middle;\n",
       "    }\n",
       "\n",
       "    .dataframe tbody tr th {\n",
       "        vertical-align: top;\n",
       "    }\n",
       "\n",
       "    .dataframe thead th {\n",
       "        text-align: right;\n",
       "    }\n",
       "</style>\n",
       "<table border=\"1\" class=\"dataframe\">\n",
       "  <thead>\n",
       "    <tr style=\"text-align: right;\">\n",
       "      <th></th>\n",
       "      <th>Actual</th>\n",
       "      <th>Predicted</th>\n",
       "    </tr>\n",
       "    <tr>\n",
       "      <th>Name</th>\n",
       "      <th></th>\n",
       "      <th></th>\n",
       "    </tr>\n",
       "  </thead>\n",
       "  <tbody>\n",
       "    <tr>\n",
       "      <th>Long-Tailed Goral</th>\n",
       "      <td>16.0</td>\n",
       "      <td>22.587188</td>\n",
       "    </tr>\n",
       "    <tr>\n",
       "      <th>Large Indian Civet</th>\n",
       "      <td>17.5</td>\n",
       "      <td>15.500357</td>\n",
       "    </tr>\n",
       "    <tr>\n",
       "      <th>American Goldfinch</th>\n",
       "      <td>7.0</td>\n",
       "      <td>12.208468</td>\n",
       "    </tr>\n",
       "    <tr>\n",
       "      <th>Gray Seal</th>\n",
       "      <td>30.0</td>\n",
       "      <td>21.353666</td>\n",
       "    </tr>\n",
       "    <tr>\n",
       "      <th>Wood Stork</th>\n",
       "      <td>14.5</td>\n",
       "      <td>21.114390</td>\n",
       "    </tr>\n",
       "    <tr>\n",
       "      <th>Western Rattlesnake</th>\n",
       "      <td>17.5</td>\n",
       "      <td>14.194927</td>\n",
       "    </tr>\n",
       "    <tr>\n",
       "      <th>Rusty-Spotted Cat</th>\n",
       "      <td>18.0</td>\n",
       "      <td>16.106982</td>\n",
       "    </tr>\n",
       "    <tr>\n",
       "      <th>Ringed Seal</th>\n",
       "      <td>27.5</td>\n",
       "      <td>22.004902</td>\n",
       "    </tr>\n",
       "    <tr>\n",
       "      <th>Eastern Kingbird</th>\n",
       "      <td>10.0</td>\n",
       "      <td>17.048844</td>\n",
       "    </tr>\n",
       "    <tr>\n",
       "      <th>Ural Owl</th>\n",
       "      <td>24.0</td>\n",
       "      <td>14.897523</td>\n",
       "    </tr>\n",
       "  </tbody>\n",
       "</table>\n",
       "</div>"
      ],
      "text/plain": [
       "                     Actual  Predicted\n",
       "Name                                  \n",
       "Long-Tailed Goral      16.0  22.587188\n",
       "Large Indian Civet     17.5  15.500357\n",
       "American Goldfinch      7.0  12.208468\n",
       "Gray Seal              30.0  21.353666\n",
       "Wood Stork             14.5  21.114390\n",
       "Western Rattlesnake    17.5  14.194927\n",
       "Rusty-Spotted Cat      18.0  16.106982\n",
       "Ringed Seal            27.5  22.004902\n",
       "Eastern Kingbird       10.0  17.048844\n",
       "Ural Owl               24.0  14.897523"
      ]
     },
     "execution_count": 4,
     "metadata": {},
     "output_type": "execute_result"
    }
   ],
   "source": [
    "training_features = ml_df.columns[ml_df.columns != \"Lifespan (years)\"]\n",
    "target_feature = \"Lifespan (years)\"\n",
    "\n",
    "X = ml_df[training_features]\n",
    "y = ml_df[target_feature]\n",
    "\n",
    "X_train, X_test, y_train, y_test = train_test_split(X, y, test_size = 0.2, random_state = 45)\n",
    "\n",
    "scaler = StandardScaler()\n",
    "X_train_scaled = scaler.fit_transform(X_train)\n",
    "X_test_scaled = scaler.transform(X_test)\n",
    "\n",
    "regressor = LinearRegression().fit(X = X_train, y = y_train)\n",
    "y_pred = regressor.predict(X_test)\n",
    "\n",
    "lifespan_comparison_df = pd.DataFrame({\"Actual\": y_test, \"Predicted\": y_pred})\n",
    "lifespan_comparison_df.sample(10)"
   ]
  },
  {
   "cell_type": "code",
   "execution_count": 5,
   "id": "9a2aad06",
   "metadata": {},
   "outputs": [
    {
     "data": {
      "text/plain": [
       "30.919956405336112"
      ]
     },
     "execution_count": 5,
     "metadata": {},
     "output_type": "execute_result"
    }
   ],
   "source": [
    "r2_score(y_test, y_pred) * 100"
   ]
  },
  {
   "cell_type": "code",
   "execution_count": 6,
   "id": "640a52cd",
   "metadata": {},
   "outputs": [
    {
     "data": {
      "text/plain": [
       "168.30881551098673"
      ]
     },
     "execution_count": 6,
     "metadata": {},
     "output_type": "execute_result"
    }
   ],
   "source": [
    "mean_squared_error(y_true = y_test, y_pred = y_pred)"
   ]
  },
  {
   "cell_type": "code",
   "execution_count": 7,
   "id": "d2472d53",
   "metadata": {},
   "outputs": [],
   "source": [
    "status_df = ml_df[(ml_df[\"Population Status\"] == 1) | (ml_df[\"Population Status\"] == 2)]"
   ]
  },
  {
   "cell_type": "code",
   "execution_count": 8,
   "id": "43232b0a",
   "metadata": {},
   "outputs": [
    {
     "name": "stderr",
     "output_type": "stream",
     "text": [
      "C:\\Users\\USER\\anaconda3\\lib\\site-packages\\sklearn\\linear_model\\_logistic.py:763: ConvergenceWarning: lbfgs failed to converge (status=1):\n",
      "STOP: TOTAL NO. of ITERATIONS REACHED LIMIT.\n",
      "\n",
      "Increase the number of iterations (max_iter) or scale the data as shown in:\n",
      "    https://scikit-learn.org/stable/modules/preprocessing.html\n",
      "Please also refer to the documentation for alternative solver options:\n",
      "    https://scikit-learn.org/stable/modules/linear_model.html#logistic-regression\n",
      "  n_iter_i = _check_optimize_result(\n"
     ]
    },
    {
     "data": {
      "text/html": [
       "<div>\n",
       "<style scoped>\n",
       "    .dataframe tbody tr th:only-of-type {\n",
       "        vertical-align: middle;\n",
       "    }\n",
       "\n",
       "    .dataframe tbody tr th {\n",
       "        vertical-align: top;\n",
       "    }\n",
       "\n",
       "    .dataframe thead th {\n",
       "        text-align: right;\n",
       "    }\n",
       "</style>\n",
       "<table border=\"1\" class=\"dataframe\">\n",
       "  <thead>\n",
       "    <tr style=\"text-align: right;\">\n",
       "      <th></th>\n",
       "      <th>Actual</th>\n",
       "      <th>Predicted</th>\n",
       "    </tr>\n",
       "    <tr>\n",
       "      <th>Name</th>\n",
       "      <th></th>\n",
       "      <th></th>\n",
       "    </tr>\n",
       "  </thead>\n",
       "  <tbody>\n",
       "    <tr>\n",
       "      <th>Panther Chameleon</th>\n",
       "      <td>1</td>\n",
       "      <td>1</td>\n",
       "    </tr>\n",
       "    <tr>\n",
       "      <th>Eastern Barred Bandicoot</th>\n",
       "      <td>2</td>\n",
       "      <td>1</td>\n",
       "    </tr>\n",
       "    <tr>\n",
       "      <th>Texas Horned Lizard</th>\n",
       "      <td>1</td>\n",
       "      <td>1</td>\n",
       "    </tr>\n",
       "    <tr>\n",
       "      <th>Rock Hyrax</th>\n",
       "      <td>1</td>\n",
       "      <td>1</td>\n",
       "    </tr>\n",
       "    <tr>\n",
       "      <th>Blue Duck</th>\n",
       "      <td>2</td>\n",
       "      <td>1</td>\n",
       "    </tr>\n",
       "    <tr>\n",
       "      <th>Tufted Deer</th>\n",
       "      <td>1</td>\n",
       "      <td>2</td>\n",
       "    </tr>\n",
       "    <tr>\n",
       "      <th>Common Minke Whale</th>\n",
       "      <td>1</td>\n",
       "      <td>1</td>\n",
       "    </tr>\n",
       "    <tr>\n",
       "      <th>Eastern Indigo Snake</th>\n",
       "      <td>1</td>\n",
       "      <td>1</td>\n",
       "    </tr>\n",
       "    <tr>\n",
       "      <th>Spotted Owl</th>\n",
       "      <td>1</td>\n",
       "      <td>1</td>\n",
       "    </tr>\n",
       "    <tr>\n",
       "      <th>Swamp Wallaby</th>\n",
       "      <td>1</td>\n",
       "      <td>1</td>\n",
       "    </tr>\n",
       "  </tbody>\n",
       "</table>\n",
       "</div>"
      ],
      "text/plain": [
       "                          Actual  Predicted\n",
       "Name                                       \n",
       "Panther Chameleon              1          1\n",
       "Eastern Barred Bandicoot       2          1\n",
       "Texas Horned Lizard            1          1\n",
       "Rock Hyrax                     1          1\n",
       "Blue Duck                      2          1\n",
       "Tufted Deer                    1          2\n",
       "Common Minke Whale             1          1\n",
       "Eastern Indigo Snake           1          1\n",
       "Spotted Owl                    1          1\n",
       "Swamp Wallaby                  1          1"
      ]
     },
     "execution_count": 8,
     "metadata": {},
     "output_type": "execute_result"
    }
   ],
   "source": [
    "trn_features = status_df.columns[status_df.columns != \"Population Status\"]\n",
    "trgt_feature = \"Population Status\"\n",
    "X2 = status_df[trn_features]\n",
    "y2 = status_df[trgt_feature]\n",
    "\n",
    "X_train2, X_test2, y_train2, y_test2 = train_test_split(X2, y2, test_size = 0.2, random_state = 33)\n",
    "\n",
    "scaler = StandardScaler()\n",
    "X_train_scaled = scaler.fit_transform(X_train2)\n",
    "X_test_scaled = scaler.transform(X_test2)\n",
    "\n",
    "lr = LogisticRegression(max_iter = 279).fit(X = X_train2, y = y_train2)\n",
    "y_pred2 = lr.predict(X_test2)\n",
    "\n",
    "status_comparison_df = pd.DataFrame({\"Actual\": y_test2, \"Predicted\": y_pred2})\n",
    "status_comparison_df.sample(10)"
   ]
  },
  {
   "cell_type": "code",
   "execution_count": 9,
   "id": "cc033610",
   "metadata": {},
   "outputs": [
    {
     "data": {
      "text/plain": [
       "84.61538461538461"
      ]
     },
     "execution_count": 9,
     "metadata": {},
     "output_type": "execute_result"
    }
   ],
   "source": [
    "f1_score(y_test2, y_pred2) * 100"
   ]
  },
  {
   "cell_type": "markdown",
   "id": "51db24f5",
   "metadata": {},
   "source": [
    "According to the confusion matrix, the model managed to predict the correct population status for 241 animals, and for 59 animals he was wrong."
   ]
  },
  {
   "cell_type": "code",
   "execution_count": 10,
   "id": "0195f735",
   "metadata": {},
   "outputs": [
    {
     "data": {
      "text/plain": [
       "array([[198,  23],\n",
       "       [ 49,  30]], dtype=int64)"
      ]
     },
     "execution_count": 10,
     "metadata": {},
     "output_type": "execute_result"
    }
   ],
   "source": [
    "confusion_matrix(y_test2, y_pred2)"
   ]
  }
 ],
 "metadata": {
  "kernelspec": {
   "display_name": "Python 3",
   "language": "python",
   "name": "python3"
  },
  "language_info": {
   "codemirror_mode": {
    "name": "ipython",
    "version": 3
   },
   "file_extension": ".py",
   "mimetype": "text/x-python",
   "name": "python",
   "nbconvert_exporter": "python",
   "pygments_lexer": "ipython3",
   "version": "3.8.8"
  }
 },
 "nbformat": 4,
 "nbformat_minor": 5
}
